{
  "nbformat": 4,
  "nbformat_minor": 0,
  "metadata": {
    "colab": {
      "name": "quickdraw_toymodel.ipynb",
      "provenance": [],
      "collapsed_sections": [],
      "machine_shape": "hm"
    },
    "kernelspec": {
      "name": "python3",
      "display_name": "Python 3"
    },
    "language_info": {
      "name": "python"
    },
    "accelerator": "GPU",
    "gpuClass": "standard"
  },
  "cells": [
    {
      "cell_type": "code",
      "execution_count": 18,
      "metadata": {
        "id": "h8HhGOyFD0mX"
      },
      "outputs": [],
      "source": [
        "import os\n",
        "import shutil\n",
        "import glob\n",
        "\n",
        "import numpy as np\n",
        "import matplotlib.pyplot as plt\n",
        "import random\n",
        "from random import randint\n",
        "\n",
        "\n",
        "from tensorflow.keras import layers\n",
        "from tensorflow import keras \n",
        "from tensorflow.keras.callbacks import ReduceLROnPlateau, EarlyStopping\n",
        "from keras.layers import BatchNormalization, Dropout, Conv2D, Activation, Dense\n",
        "import tensorflow as tf\n",
        "from tensorflow.keras.metrics import top_k_categorical_accuracy\n",
        "\n",
        "\n",
        "import urllib.request\n",
        "\n"
      ]
    },
    {
      "cell_type": "code",
      "source": [
        "## quickdraw 라는 api 설치한다. (리스트 쉽게 뽑을 수 있고, 그룹별 이미지 확인도 쉬운편)\n",
        "!pip install quickdraw"
      ],
      "metadata": {
        "colab": {
          "base_uri": "https://localhost:8080/"
        },
        "id": "1vH_i6MpG9nJ",
        "outputId": "506601a2-25e4-4c56-d7ef-722ee43c0e37"
      },
      "execution_count": 2,
      "outputs": [
        {
          "output_type": "stream",
          "name": "stdout",
          "text": [
            "Looking in indexes: https://pypi.org/simple, https://us-python.pkg.dev/colab-wheels/public/simple/\n",
            "Requirement already satisfied: quickdraw in /usr/local/lib/python3.7/dist-packages (0.2.0)\n",
            "Requirement already satisfied: requests in /usr/local/lib/python3.7/dist-packages (from quickdraw) (2.23.0)\n",
            "Requirement already satisfied: pillow in /usr/local/lib/python3.7/dist-packages (from quickdraw) (7.1.2)\n",
            "Requirement already satisfied: urllib3!=1.25.0,!=1.25.1,<1.26,>=1.21.1 in /usr/local/lib/python3.7/dist-packages (from requests->quickdraw) (1.24.3)\n",
            "Requirement already satisfied: chardet<4,>=3.0.2 in /usr/local/lib/python3.7/dist-packages (from requests->quickdraw) (3.0.4)\n",
            "Requirement already satisfied: idna<3,>=2.5 in /usr/local/lib/python3.7/dist-packages (from requests->quickdraw) (2.10)\n",
            "Requirement already satisfied: certifi>=2017.4.17 in /usr/local/lib/python3.7/dist-packages (from requests->quickdraw) (2022.6.15)\n"
          ]
        }
      ]
    },
    {
      "cell_type": "code",
      "source": [
        "## quick draw 의 클래스 이름을 불러온다.\n",
        "from quickdraw import QuickDrawData\n",
        "\n",
        "qd = QuickDrawData()\n",
        "classes = qd.drawing_names\n",
        "## class 를 임의로 20개만 추출한다. (colab 의 ram 사용 문제)\n",
        "classes_rd = random.sample(classes, 20)\n",
        "print('추출한 class 갯수 : ', len(classes_rd))"
      ],
      "metadata": {
        "colab": {
          "base_uri": "https://localhost:8080/"
        },
        "id": "eLTarHcyHQYh",
        "outputId": "450ab064-042a-476e-800e-a0bb1476f16c"
      },
      "execution_count": 3,
      "outputs": [
        {
          "output_type": "stream",
          "name": "stdout",
          "text": [
            "추출한 class 갯수 :  20\n"
          ]
        }
      ]
    },
    {
      "cell_type": "code",
      "source": [
        "## class 이름중간의 빈칸은 _ 로 바꿔준다.\n",
        "classes_rd = [c.replace(' ', '_') for c in classes_rd]\n",
        "print(classes_rd)"
      ],
      "metadata": {
        "colab": {
          "base_uri": "https://localhost:8080/"
        },
        "id": "-6N9D_icIpG0",
        "outputId": "ceb01b05-aa7a-4a6f-afed-8588298fcef0"
      },
      "execution_count": 4,
      "outputs": [
        {
          "output_type": "stream",
          "name": "stdout",
          "text": [
            "['radio', 'mailbox', 'hot_dog', 'baseball', 'triangle', 'computer', 'matches', 'motorbike', 'swan', 'bicycle', 'castle', 'bench', 'cloud', 'chair', 'ambulance', 'mosquito', 'blueberry', 'asparagus', 'ant', 'toilet']\n"
          ]
        }
      ]
    },
    {
      "cell_type": "code",
      "source": [
        "# data 라는 폴더를 만들어준다. (colab)\n",
        "# 이전에 로딩해두었던 데이터는 모두 지우고 새로한다.\n",
        "if os.path.exists('data'):\n",
        "  shutil.rmtree('data')\n",
        "\n",
        "!mkdir data"
      ],
      "metadata": {
        "id": "7F1f-7-3JBBV"
      },
      "execution_count": 5,
      "outputs": []
    },
    {
      "cell_type": "code",
      "source": [
        "## 위에서 random으로 추출한 class 들의 이미지 파일을 다운로드 받는다.\n",
        "## numpy bitmap 형식으로 다운 받는다.\n",
        "def download():\n",
        "  base = 'https://storage.googleapis.com/quickdraw_dataset/full/numpy_bitmap/'\n",
        "  for c in classes_rd:\n",
        "    cls_url = c.replace('_', '%20')\n",
        "    path = base+cls_url+'.npy'\n",
        "    print(path)\n",
        "    ## 위에서 만들어준 data 라는 폴더에 저장한다.\n",
        "    urllib.request.urlretrieve(path, 'data/'+c+'.npy')"
      ],
      "metadata": {
        "id": "IDk4q1zyD60a"
      },
      "execution_count": 6,
      "outputs": []
    },
    {
      "cell_type": "code",
      "source": [
        "download()"
      ],
      "metadata": {
        "colab": {
          "base_uri": "https://localhost:8080/"
        },
        "id": "ft3UrEG8ILIw",
        "outputId": "7b82d1f5-6c3c-443e-edb4-e12ba913a92d"
      },
      "execution_count": 7,
      "outputs": [
        {
          "output_type": "stream",
          "name": "stdout",
          "text": [
            "https://storage.googleapis.com/quickdraw_dataset/full/numpy_bitmap/radio.npy\n",
            "https://storage.googleapis.com/quickdraw_dataset/full/numpy_bitmap/mailbox.npy\n",
            "https://storage.googleapis.com/quickdraw_dataset/full/numpy_bitmap/hot%20dog.npy\n",
            "https://storage.googleapis.com/quickdraw_dataset/full/numpy_bitmap/baseball.npy\n",
            "https://storage.googleapis.com/quickdraw_dataset/full/numpy_bitmap/triangle.npy\n",
            "https://storage.googleapis.com/quickdraw_dataset/full/numpy_bitmap/computer.npy\n",
            "https://storage.googleapis.com/quickdraw_dataset/full/numpy_bitmap/matches.npy\n",
            "https://storage.googleapis.com/quickdraw_dataset/full/numpy_bitmap/motorbike.npy\n",
            "https://storage.googleapis.com/quickdraw_dataset/full/numpy_bitmap/swan.npy\n",
            "https://storage.googleapis.com/quickdraw_dataset/full/numpy_bitmap/bicycle.npy\n",
            "https://storage.googleapis.com/quickdraw_dataset/full/numpy_bitmap/castle.npy\n",
            "https://storage.googleapis.com/quickdraw_dataset/full/numpy_bitmap/bench.npy\n",
            "https://storage.googleapis.com/quickdraw_dataset/full/numpy_bitmap/cloud.npy\n",
            "https://storage.googleapis.com/quickdraw_dataset/full/numpy_bitmap/chair.npy\n",
            "https://storage.googleapis.com/quickdraw_dataset/full/numpy_bitmap/ambulance.npy\n",
            "https://storage.googleapis.com/quickdraw_dataset/full/numpy_bitmap/mosquito.npy\n",
            "https://storage.googleapis.com/quickdraw_dataset/full/numpy_bitmap/blueberry.npy\n",
            "https://storage.googleapis.com/quickdraw_dataset/full/numpy_bitmap/asparagus.npy\n",
            "https://storage.googleapis.com/quickdraw_dataset/full/numpy_bitmap/ant.npy\n",
            "https://storage.googleapis.com/quickdraw_dataset/full/numpy_bitmap/toilet.npy\n"
          ]
        }
      ]
    },
    {
      "cell_type": "code",
      "source": [
        "## colab 의 임시 폴더인 'data' 에 저장해둔 데이터 불러와 train, test 및 x, y 로 분리하기\n",
        "## 데이터 불러올때 순서에 맞춰 label 맞추기\n",
        "\n",
        "## test set 비율은 20%, 각 이미지 셋에서 불러오는 이미지 갯수는 30000개로 default 설정함\n",
        "def load_data(root, vfold_ratio=0.2, max_items_per_class=30000):\n",
        "  all_files = glob.glob(os.path.join(root, '*.npy'))\n",
        "\n",
        "  ## 28 x 28 x 1 의 비트맵 이미지임\n",
        "  x = np.empty([0, 784])\n",
        "  y = np.empty([0])\n",
        "  class_names = []\n",
        "\n",
        "  for idx, file in enumerate(all_files):\n",
        "    ## 확장자 npy 인 파일을 numpy의 load 메서드 이용해 부른다.\n",
        "    data = np.load(file)\n",
        "    ## 각 클래스의 이미지중 정해진 개수만 읽는다.\n",
        "    data = data[0:max_items_per_class, :]\n",
        "    ## 파일 순서대로 라벨링 해준다.\n",
        "    labels = np.full(data.shape[0], idx)\n",
        "\n",
        "    x = np.concatenate((x, data), axis=0)\n",
        "    y = np.append(y, labels)\n",
        "\n",
        "    ## class name도 순서대로 쌓아준다.(위에서한 label 과 순서를 맞추는 의미가 있음)\n",
        "    class_name, ext = os.path.splitext(os.path.basename(file))\n",
        "    class_names.append(class_name)\n",
        "\n",
        "  data = None\n",
        "  labels = None\n",
        "\n",
        "  ## 데이터의 순서를 랜덤으로 섞어준다. (random permutation)\n",
        "  permutation = np.random.permutation(y.shape[0])\n",
        "  x = x[permutation, :]\n",
        "  y = y[permutation]\n",
        "\n",
        "  ## train 과 test set 으로 분리해준다.\n",
        "  ## 입력받은 vfold_ratio를 사용함\n",
        "  vfold_size = int(x.shape[0]/100 * (vfold_ratio * 100))\n",
        "\n",
        "  ## test set\n",
        "  x_test = x[0:vfold_size, :]\n",
        "  y_test = y[0:vfold_size]\n",
        "\n",
        "  ## train set\n",
        "  x_train = x[vfold_size:x.shape[0], :]\n",
        "  y_train = y[vfold_size:y.shape[0]]\n",
        "\n",
        "  return x_train, y_train, x_test, y_test, class_names"
      ],
      "metadata": {
        "id": "EnIdhGSKKtWN"
      },
      "execution_count": 8,
      "outputs": []
    },
    {
      "cell_type": "code",
      "source": [
        "x_train, y_train, x_test, y_test, class_names = load_data('data')"
      ],
      "metadata": {
        "id": "qTDdMpMRN-kH"
      },
      "execution_count": 9,
      "outputs": []
    },
    {
      "cell_type": "code",
      "source": [
        "print('class 갯수 : ', len(class_names))\n",
        "print('x_train 의 Shape : {}, y_train 의 Shape : {}'.format(x_train.shape, y_train.shape))\n",
        "print('x_test 의 Shape : {}, y_test의 Shape : {}'.format(x_test.shape, y_test.shape))"
      ],
      "metadata": {
        "id": "E9aQ5sPzOHMg",
        "colab": {
          "base_uri": "https://localhost:8080/"
        },
        "outputId": "67b54a77-461f-4392-9fa5-b1d1edaac27e"
      },
      "execution_count": 10,
      "outputs": [
        {
          "output_type": "stream",
          "name": "stdout",
          "text": [
            "class 갯수 :  20\n",
            "x_train 의 Shape : (480000, 784), y_train 의 Shape : (480000,)\n",
            "x_test 의 Shape : (120000, 784), y_test의 Shape : (120000,)\n"
          ]
        }
      ]
    },
    {
      "cell_type": "code",
      "source": [
        "idx = randint(0, len(x_train))\n",
        "plt.imshow(x_train[idx].reshape(28,28)) \n",
        "print(class_names[int(y_train[idx].item())])"
      ],
      "metadata": {
        "id": "PxBvl5wgY-LZ",
        "colab": {
          "base_uri": "https://localhost:8080/",
          "height": 282
        },
        "outputId": "35ca60d3-c18e-478b-c06a-2303f4fa9241"
      },
      "execution_count": 11,
      "outputs": [
        {
          "output_type": "stream",
          "name": "stdout",
          "text": [
            "baseball\n"
          ]
        },
        {
          "output_type": "display_data",
          "data": {
            "text/plain": [
              "<Figure size 432x288 with 1 Axes>"
            ],
            "image/png": "[encoded data removed]"
          },
          "metadata": {
            "needs_background": "light"
          }
        }
      ]
    },
    {
      "cell_type": "code",
      "source": [
        "## image 크기는 28, 28, 1 으로 한다.\n",
        "image_size = 28\n",
        "num_classes = len(class_names)\n",
        "\n",
        "x_train_rs = x_train.reshape(x_train.shape[0], image_size, image_size, 1).astype('float32')\n",
        "x_test_rs = x_test.reshape(x_test.shape[0], image_size, image_size, 1).astype('float32')\n",
        "\n",
        "## x 값들을 정규화한다.\n",
        "\n",
        "#-1 ~ 1 로 정규화\n",
        "x_train_rs = (x_train_rs - 127.5) / 127.5\n",
        "x_test_rs = (x_test_rs - 127.5) / 127.5\n",
        "\n",
        "'''\n",
        "x_train_rs = x_train_rs / 255\n",
        "x_test_rs = x_test_rs / 255\n",
        "'''\n",
        "\n",
        "y_train_rs = keras.utils.to_categorical(y_train, num_classes)\n",
        "y_test_rs = keras.utils.to_categorical(y_test, num_classes)"
      ],
      "metadata": {
        "id": "IZeRuijnLHyz"
      },
      "execution_count": 12,
      "outputs": []
    },
    {
      "cell_type": "code",
      "source": [
        "print('x_train 의 Shape : {}, y_train 의 Shape : {}'.format(x_train_rs.shape, y_train_rs.shape))\n",
        "print('x_test 의 Shape : {}, y_test 의 Shape : {}'.format(x_test_rs.shape, y_test_rs.shape))"
      ],
      "metadata": {
        "colab": {
          "base_uri": "https://localhost:8080/"
        },
        "id": "B1yYFKq1iK0n",
        "outputId": "bd702fb6-a677-4ce7-fc7b-144d1850ca1e"
      },
      "execution_count": 13,
      "outputs": [
        {
          "output_type": "stream",
          "name": "stdout",
          "text": [
            "x_train 의 Shape : (480000, 28, 28, 1), y_train 의 Shape : (480000, 20)\n",
            "x_test 의 Shape : (120000, 28, 28, 1), y_test 의 Shape : (120000, 20)\n"
          ]
        }
      ]
    },
    {
      "cell_type": "code",
      "source": [
        "## CNN 모델을 구성한다.\n",
        "\n",
        "## Alex-Net 의 구조를 참고하되 2xGPU 는 구현하지 않고 1xGPU만을 사용하는 것으로 한다.\n",
        "## 5개의 Conv Layer + 1개의 Flatten Layer + 2개의 Dense Layer + 1개의 출력층\n",
        "## Normalize Layer 는 LRN 대신 BatchNormal 로 적용함\n",
        "\n",
        "con_filter = 32\n",
        "\n",
        "model = keras.Sequential()\n",
        "# 첫번째 Conv layer (maxpooling 없음 : 입력값이 28x28x1 이라 5개층을 쌓으려면 pooling 층이 4개여야 함)\n",
        "model.add(Conv2D(con_filter, (3, 3), padding='same', input_shape=(x_train_rs.shape[1], x_train_rs.shape[1], 1), kernel_initializer='he_normal'))\n",
        "model.add(BatchNormalization())\n",
        "model.add(Activation('relu'))\n",
        "# 두번째 Conv layer\n",
        "model.add(Conv2D(con_filter * 2, (3, 3), padding='same', kernel_initializer='he_normal'))\n",
        "model.add(BatchNormalization())\n",
        "model.add(Activation('relu'))\n",
        "model.add(layers.MaxPooling2D(pool_size=(2, 2)))\n",
        "# 세번째 Conv layer\n",
        "model.add(Conv2D(con_filter * 4, (3, 3), padding='same', kernel_initializer='he_normal'))\n",
        "model.add(BatchNormalization())\n",
        "model.add(Activation('relu'))\n",
        "model.add(layers.MaxPooling2D(pool_size=(2, 2)))\n",
        "# 네번째 Conv layer\n",
        "model.add(Conv2D(con_filter * 8, (3, 3), padding='same', kernel_initializer='he_normal'))\n",
        "model.add(layers.BatchNormalization())\n",
        "model.add(Activation('relu'))\n",
        "model.add(layers.MaxPooling2D(pool_size =(2,2)))\n",
        "\n",
        "# 다섯번째 Conv layer\n",
        "model.add(Conv2D(con_filter * 16, (3, 3), padding='same', kernel_initializer='he_normal'))\n",
        "model.add(layers.BatchNormalization())\n",
        "model.add(Activation('relu'))\n",
        "model.add(layers.MaxPooling2D(pool_size =(2,2)))\n",
        "\n",
        "# Flatten Layer\n",
        "model.add(layers.Flatten())\n",
        "\n",
        "# Dense Layer (2개 반영)\n",
        "# Dropout Layer (과적합 방지위해 각 Dense Layer 이후에 50% dropout 을 반영)\n",
        "model.add(layers.Dense(512, activation='relu', kernel_initializer='he_normal'))\n",
        "model.add(layers.Dense(256, activation='relu', kernel_initializer='he_normal'))\n",
        "model.add(Dropout(0.5))\n",
        "\n",
        "# Output Layer\n",
        "model.add(layers.Dense(num_classes, activation='softmax')) \n",
        "\n"
      ],
      "metadata": {
        "id": "XUqHeyM-hfle"
      },
      "execution_count": 21,
      "outputs": []
    },
    {
      "cell_type": "code",
      "source": [
        "\n",
        "def top_3_accuracy(x, y):\n",
        "  t3 = top_k_categorical_accuracy(x, y, 3)\n",
        "  return t3\n",
        "\n",
        "learning_rate = 0.001\n",
        "\n",
        "reduceLROnPlat = ReduceLROnPlateau(monitor='val_loss', factor=0.5, patience=3, verbose = 1, mode='auto', min_delta=0.005, cooldown=5, min_lr=learning_rate)\n",
        "\n",
        "earlystop = EarlyStopping(monitor='val_top_3_accuracy', mode='max', patience=4)\n",
        "callbacks = [earlystop]\n",
        "\n",
        "adam = keras.optimizers.Adam(learning_rate = 0.001)\n",
        "\n",
        "model.compile(loss='categorical_crossentropy', optimizer= adam, metrics=['accuracy', top_3_accuracy])\n",
        "\n",
        "print(model.summary())\n",
        "\n"
      ],
      "metadata": {
        "colab": {
          "base_uri": "https://localhost:8080/"
        },
        "id": "DTOi77ZjDor2",
        "outputId": "4fb44916-d70e-4c4a-e52a-e422ad7a7fce"
      },
      "execution_count": 22,
      "outputs": [
        {
          "output_type": "stream",
          "name": "stdout",
          "text": [
            "Model: \"sequential_1\"\n",
            "_________________________________________________________________\n",
            " Layer (type)                Output Shape              Param #   \n",
            "=================================================================\n",
            " conv2d_5 (Conv2D)           (None, 28, 28, 32)        320       \n",
            "                                                                 \n",
            " batch_normalization_5 (Batc  (None, 28, 28, 32)       128       \n",
            " hNormalization)                                                 \n",
            "                                                                 \n",
            " activation_5 (Activation)   (None, 28, 28, 32)        0         \n",
            "                                                                 \n",
            " conv2d_6 (Conv2D)           (None, 28, 28, 64)        18496     \n",
            "                                                                 \n",
            " batch_normalization_6 (Batc  (None, 28, 28, 64)       256       \n",
            " hNormalization)                                                 \n",
            "                                                                 \n",
            " activation_6 (Activation)   (None, 28, 28, 64)        0         \n",
            "                                                                 \n",
            " max_pooling2d_4 (MaxPooling  (None, 14, 14, 64)       0         \n",
            " 2D)                                                             \n",
            "                                                                 \n",
            " conv2d_7 (Conv2D)           (None, 14, 14, 128)       73856     \n",
            "                                                                 \n",
            " batch_normalization_7 (Batc  (None, 14, 14, 128)      512       \n",
            " hNormalization)                                                 \n",
            "                                                                 \n",
            " activation_7 (Activation)   (None, 14, 14, 128)       0         \n",
            "                                                                 \n",
            " max_pooling2d_5 (MaxPooling  (None, 7, 7, 128)        0         \n",
            " 2D)                                                             \n",
            "                                                                 \n",
            " conv2d_8 (Conv2D)           (None, 7, 7, 256)         295168    \n",
            "                                                                 \n",
            " batch_normalization_8 (Batc  (None, 7, 7, 256)        1024      \n",
            " hNormalization)                                                 \n",
            "                                                                 \n",
            " activation_8 (Activation)   (None, 7, 7, 256)         0         \n",
            "                                                                 \n",
            " max_pooling2d_6 (MaxPooling  (None, 3, 3, 256)        0         \n",
            " 2D)                                                             \n",
            "                                                                 \n",
            " conv2d_9 (Conv2D)           (None, 3, 3, 512)         1180160   \n",
            "                                                                 \n",
            " batch_normalization_9 (Batc  (None, 3, 3, 512)        2048      \n",
            " hNormalization)                                                 \n",
            "                                                                 \n",
            " activation_9 (Activation)   (None, 3, 3, 512)         0         \n",
            "                                                                 \n",
            " max_pooling2d_7 (MaxPooling  (None, 1, 1, 512)        0         \n",
            " 2D)                                                             \n",
            "                                                                 \n",
            " flatten_1 (Flatten)         (None, 512)               0         \n",
            "                                                                 \n",
            " dense_3 (Dense)             (None, 512)               262656    \n",
            "                                                                 \n",
            " dense_4 (Dense)             (None, 256)               131328    \n",
            "                                                                 \n",
            " dropout_2 (Dropout)         (None, 256)               0         \n",
            "                                                                 \n",
            " dense_5 (Dense)             (None, 20)                5140      \n",
            "                                                                 \n",
            "=================================================================\n",
            "Total params: 1,971,092\n",
            "Trainable params: 1,969,108\n",
            "Non-trainable params: 1,984\n",
            "_________________________________________________________________\n",
            "None\n"
          ]
        }
      ]
    },
    {
      "cell_type": "code",
      "source": [
        "history = model.fit(x=x_train_rs, y=y_train_rs, validation_split=0.1, batch_size=128, verbose=2, callbacks=callbacks, epochs=50)"
      ],
      "metadata": {
        "colab": {
          "base_uri": "https://localhost:8080/"
        },
        "id": "b2fg8v7aEjLn",
        "outputId": "dab139a4-a79a-4007-c4d8-86e455c46fb4"
      },
      "execution_count": 23,
      "outputs": [
        {
          "output_type": "stream",
          "name": "stdout",
          "text": [
            "Epoch 1/50\n",
            "3375/3375 - 40s - loss: 0.5221 - accuracy: 0.8414 - top_3_accuracy: 0.9476 - val_loss: 0.3689 - val_accuracy: 0.8823 - val_top_3_accuracy: 0.9676 - 40s/epoch - 12ms/step\n",
            "Epoch 2/50\n",
            "3375/3375 - 39s - loss: 0.3502 - accuracy: 0.8933 - top_3_accuracy: 0.9686 - val_loss: 0.3924 - val_accuracy: 0.8800 - val_top_3_accuracy: 0.9640 - 39s/epoch - 12ms/step\n",
            "Epoch 3/50\n",
            "3375/3375 - 39s - loss: 0.3024 - accuracy: 0.9069 - top_3_accuracy: 0.9731 - val_loss: 0.3215 - val_accuracy: 0.9001 - val_top_3_accuracy: 0.9715 - 39s/epoch - 12ms/step\n",
            "Epoch 4/50\n",
            "3375/3375 - 39s - loss: 0.2682 - accuracy: 0.9171 - top_3_accuracy: 0.9765 - val_loss: 0.3171 - val_accuracy: 0.9037 - val_top_3_accuracy: 0.9721 - 39s/epoch - 12ms/step\n",
            "Epoch 5/50\n",
            "3375/3375 - 39s - loss: 0.2371 - accuracy: 0.9257 - top_3_accuracy: 0.9792 - val_loss: 0.3387 - val_accuracy: 0.8995 - val_top_3_accuracy: 0.9710 - 39s/epoch - 12ms/step\n",
            "Epoch 6/50\n",
            "3375/3375 - 39s - loss: 0.2096 - accuracy: 0.9330 - top_3_accuracy: 0.9817 - val_loss: 0.3377 - val_accuracy: 0.9039 - val_top_3_accuracy: 0.9714 - 39s/epoch - 12ms/step\n",
            "Epoch 7/50\n",
            "3375/3375 - 39s - loss: 0.1870 - accuracy: 0.9399 - top_3_accuracy: 0.9839 - val_loss: 0.3606 - val_accuracy: 0.9052 - val_top_3_accuracy: 0.9706 - 39s/epoch - 12ms/step\n",
            "Epoch 8/50\n",
            "3375/3375 - 39s - loss: 0.1657 - accuracy: 0.9466 - top_3_accuracy: 0.9860 - val_loss: 0.3575 - val_accuracy: 0.9038 - val_top_3_accuracy: 0.9699 - 39s/epoch - 12ms/step\n"
          ]
        }
      ]
    },
    {
      "cell_type": "code",
      "source": [
        "score = model.evaluate(x_test_rs, y_test_rs, verbose=0)\n",
        "print('Loss : {:.4f}, Accuracy : {:.4f}%'.format(score[0], score[1]*100))"
      ],
      "metadata": {
        "colab": {
          "base_uri": "https://localhost:8080/"
        },
        "id": "Bg7HsO66kCtj",
        "outputId": "787d4339-387e-4d3c-e1e0-e1e563c5ce1f"
      },
      "execution_count": 24,
      "outputs": [
        {
          "output_type": "stream",
          "name": "stdout",
          "text": [
            "Loss : 0.3629, Accuracy : 90.2367%\n"
          ]
        }
      ]
    },
    {
      "cell_type": "code",
      "source": [
        "plt.plot(history.history['accuracy'])\n",
        "plt.plot(history.history['val_accuracy'])\n",
        "plt.legend(['training', 'validation'], loc = 'upper left')\n",
        "plt.show()"
      ],
      "metadata": {
        "colab": {
          "base_uri": "https://localhost:8080/",
          "height": 265
        },
        "id": "EosNZELouVzs",
        "outputId": "7505b294-bc36-4e37-bc63-3b1ce2f257e0"
      },
      "execution_count": 25,
      "outputs": [
        {
          "output_type": "display_data",
          "data": {
            "text/plain": [
              "<Figure size 432x288 with 1 Axes>"
            ],
            "image/png": "[encoded data removed]"
          },
          "metadata": {
            "needs_background": "light"
          }
        }
      ]
    },
    {
      "cell_type": "code",
      "source": [
        "plt.plot(history.history['loss'])\n",
        "plt.plot(history.history['val_loss'])\n",
        "plt.legend(['training', 'validation'], loc = 'upper left')\n",
        "plt.show()"
      ],
      "metadata": {
        "colab": {
          "base_uri": "https://localhost:8080/",
          "height": 265
        },
        "id": "OVkcUCxAMeRq",
        "outputId": "93a55344-96dc-4853-d004-4b469f8d2abb"
      },
      "execution_count": 26,
      "outputs": [
        {
          "output_type": "display_data",
          "data": {
            "text/plain": [
              "<Figure size 432x288 with 1 Axes>"
            ],
            "image/png": "[encoded data removed]"
          },
          "metadata": {
            "needs_background": "light"
          }
        }
      ]
    },
    {
      "cell_type": "code",
      "source": [
        "## test 를 집어넣고, 예상값 상위 5개 출력해보기\n",
        "\n",
        "idx = random.randint(0, len(x_test))\n",
        "img = x_test_rs[idx]\n",
        "plt.imshow(img.squeeze())\n",
        "pred = model.predict(np.expand_dims(img, axis=0))[0]\n",
        "ind = (-pred).argsort()[:5]\n",
        "pred_x_top5 = [class_names[x] for x in ind]\n",
        "\n",
        "\n",
        "print('예측치 상위 5개 명단 : ', pred_x_top5)\n",
        "print('실제 낙서의 이름 : ', class_names[int(y_test[idx])])"
      ],
      "metadata": {
        "colab": {
          "base_uri": "https://localhost:8080/",
          "height": 300
        },
        "id": "YHnMQR_mlEqO",
        "outputId": "bf1660ca-fad7-4eac-9983-216284072cbb"
      },
      "execution_count": 27,
      "outputs": [
        {
          "output_type": "stream",
          "name": "stdout",
          "text": [
            "예측치 상위 5개 명단 :  ['mosquito', 'ant', 'swan', 'asparagus', 'matches']\n",
            "실제 낙서의 이름 :  mosquito\n"
          ]
        },
        {
          "output_type": "display_data",
          "data": {
            "text/plain": [
              "<Figure size 432x288 with 1 Axes>"
            ],
            "image/png": "[encoded data removed]"
          },
          "metadata": {
            "needs_background": "light"
          }
        }
      ]
    },
    {
      "cell_type": "code",
      "source": [
        "with open('class_names.txt', 'w') as file:\n",
        "  for item in class_names:\n",
        "    file.write(\"{}\\n\".format(item))"
      ],
      "metadata": {
        "id": "BM6qkAV9n6GH"
      },
      "execution_count": 28,
      "outputs": []
    },
    {
      "cell_type": "code",
      "source": [
        "!pip install tensorflowjs "
      ],
      "metadata": {
        "colab": {
          "base_uri": "https://localhost:8080/"
        },
        "id": "dp2TtHGNoK0l",
        "outputId": "858b1888-2eff-4a4b-94ca-773aeddb1dc1"
      },
      "execution_count": 29,
      "outputs": [
        {
          "output_type": "stream",
          "name": "stdout",
          "text": [
            "Looking in indexes: https://pypi.org/simple, https://us-python.pkg.dev/colab-wheels/public/simple/\n",
            "Requirement already satisfied: tensorflowjs in /usr/local/lib/python3.7/dist-packages (3.18.0)\n",
            "Requirement already satisfied: six<2,>=1.12.0 in /usr/local/lib/python3.7/dist-packages (from tensorflowjs) (1.15.0)\n",
            "Requirement already satisfied: tensorflow-hub<0.13,>=0.7.0 in /usr/local/lib/python3.7/dist-packages (from tensorflowjs) (0.12.0)\n",
            "Requirement already satisfied: packaging~=20.9 in /usr/local/lib/python3.7/dist-packages (from tensorflowjs) (20.9)\n",
            "Requirement already satisfied: tensorflow<3,>=2.1.0 in /usr/local/lib/python3.7/dist-packages (from tensorflowjs) (2.8.2+zzzcolab20220527125636)\n",
            "Requirement already satisfied: pyparsing>=2.0.2 in /usr/local/lib/python3.7/dist-packages (from packaging~=20.9->tensorflowjs) (3.0.9)\n",
            "Requirement already satisfied: h5py>=2.9.0 in /usr/local/lib/python3.7/dist-packages (from tensorflow<3,>=2.1.0->tensorflowjs) (3.1.0)\n",
            "Requirement already satisfied: tensorboard<2.9,>=2.8 in /usr/local/lib/python3.7/dist-packages (from tensorflow<3,>=2.1.0->tensorflowjs) (2.8.0)\n",
            "Requirement already satisfied: tensorflow-io-gcs-filesystem>=0.23.1 in /usr/local/lib/python3.7/dist-packages (from tensorflow<3,>=2.1.0->tensorflowjs) (0.26.0)\n",
            "Requirement already satisfied: google-pasta>=0.1.1 in /usr/local/lib/python3.7/dist-packages (from tensorflow<3,>=2.1.0->tensorflowjs) (0.2.0)\n",
            "Requirement already satisfied: numpy>=1.20 in /usr/local/lib/python3.7/dist-packages (from tensorflow<3,>=2.1.0->tensorflowjs) (1.21.6)\n",
            "Requirement already satisfied: grpcio<2.0,>=1.24.3 in /usr/local/lib/python3.7/dist-packages (from tensorflow<3,>=2.1.0->tensorflowjs) (1.47.0)\n",
            "Requirement already satisfied: keras-preprocessing>=1.1.1 in /usr/local/lib/python3.7/dist-packages (from tensorflow<3,>=2.1.0->tensorflowjs) (1.1.2)\n",
            "Requirement already satisfied: tensorflow-estimator<2.9,>=2.8 in /usr/local/lib/python3.7/dist-packages (from tensorflow<3,>=2.1.0->tensorflowjs) (2.8.0)\n",
            "Requirement already satisfied: setuptools in /usr/local/lib/python3.7/dist-packages (from tensorflow<3,>=2.1.0->tensorflowjs) (57.4.0)\n",
            "Requirement already satisfied: keras<2.9,>=2.8.0rc0 in /usr/local/lib/python3.7/dist-packages (from tensorflow<3,>=2.1.0->tensorflowjs) (2.8.0)\n",
            "Requirement already satisfied: gast>=0.2.1 in /usr/local/lib/python3.7/dist-packages (from tensorflow<3,>=2.1.0->tensorflowjs) (0.5.3)\n",
            "Requirement already satisfied: wrapt>=1.11.0 in /usr/local/lib/python3.7/dist-packages (from tensorflow<3,>=2.1.0->tensorflowjs) (1.14.1)\n",
            "Requirement already satisfied: astunparse>=1.6.0 in /usr/local/lib/python3.7/dist-packages (from tensorflow<3,>=2.1.0->tensorflowjs) (1.6.3)\n",
            "Requirement already satisfied: protobuf<3.20,>=3.9.2 in /usr/local/lib/python3.7/dist-packages (from tensorflow<3,>=2.1.0->tensorflowjs) (3.17.3)\n",
            "Requirement already satisfied: absl-py>=0.4.0 in /usr/local/lib/python3.7/dist-packages (from tensorflow<3,>=2.1.0->tensorflowjs) (1.1.0)\n",
            "Requirement already satisfied: typing-extensions>=3.6.6 in /usr/local/lib/python3.7/dist-packages (from tensorflow<3,>=2.1.0->tensorflowjs) (4.1.1)\n",
            "Requirement already satisfied: termcolor>=1.1.0 in /usr/local/lib/python3.7/dist-packages (from tensorflow<3,>=2.1.0->tensorflowjs) (1.1.0)\n",
            "Requirement already satisfied: opt-einsum>=2.3.2 in /usr/local/lib/python3.7/dist-packages (from tensorflow<3,>=2.1.0->tensorflowjs) (3.3.0)\n",
            "Requirement already satisfied: libclang>=9.0.1 in /usr/local/lib/python3.7/dist-packages (from tensorflow<3,>=2.1.0->tensorflowjs) (14.0.1)\n",
            "Requirement already satisfied: flatbuffers>=1.12 in /usr/local/lib/python3.7/dist-packages (from tensorflow<3,>=2.1.0->tensorflowjs) (2.0)\n",
            "Requirement already satisfied: wheel<1.0,>=0.23.0 in /usr/local/lib/python3.7/dist-packages (from astunparse>=1.6.0->tensorflow<3,>=2.1.0->tensorflowjs) (0.37.1)\n",
            "Requirement already satisfied: cached-property in /usr/local/lib/python3.7/dist-packages (from h5py>=2.9.0->tensorflow<3,>=2.1.0->tensorflowjs) (1.5.2)\n",
            "Requirement already satisfied: tensorboard-plugin-wit>=1.6.0 in /usr/local/lib/python3.7/dist-packages (from tensorboard<2.9,>=2.8->tensorflow<3,>=2.1.0->tensorflowjs) (1.8.1)\n",
            "Requirement already satisfied: werkzeug>=0.11.15 in /usr/local/lib/python3.7/dist-packages (from tensorboard<2.9,>=2.8->tensorflow<3,>=2.1.0->tensorflowjs) (1.0.1)\n",
            "Requirement already satisfied: markdown>=2.6.8 in /usr/local/lib/python3.7/dist-packages (from tensorboard<2.9,>=2.8->tensorflow<3,>=2.1.0->tensorflowjs) (3.4.1)\n",
            "Requirement already satisfied: requests<3,>=2.21.0 in /usr/local/lib/python3.7/dist-packages (from tensorboard<2.9,>=2.8->tensorflow<3,>=2.1.0->tensorflowjs) (2.23.0)\n",
            "Requirement already satisfied: google-auth-oauthlib<0.5,>=0.4.1 in /usr/local/lib/python3.7/dist-packages (from tensorboard<2.9,>=2.8->tensorflow<3,>=2.1.0->tensorflowjs) (0.4.6)\n",
            "Requirement already satisfied: tensorboard-data-server<0.7.0,>=0.6.0 in /usr/local/lib/python3.7/dist-packages (from tensorboard<2.9,>=2.8->tensorflow<3,>=2.1.0->tensorflowjs) (0.6.1)\n",
            "Requirement already satisfied: google-auth<3,>=1.6.3 in /usr/local/lib/python3.7/dist-packages (from tensorboard<2.9,>=2.8->tensorflow<3,>=2.1.0->tensorflowjs) (1.35.0)\n",
            "Requirement already satisfied: cachetools<5.0,>=2.0.0 in /usr/local/lib/python3.7/dist-packages (from google-auth<3,>=1.6.3->tensorboard<2.9,>=2.8->tensorflow<3,>=2.1.0->tensorflowjs) (4.2.4)\n",
            "Requirement already satisfied: rsa<5,>=3.1.4 in /usr/local/lib/python3.7/dist-packages (from google-auth<3,>=1.6.3->tensorboard<2.9,>=2.8->tensorflow<3,>=2.1.0->tensorflowjs) (4.8)\n",
            "Requirement already satisfied: pyasn1-modules>=0.2.1 in /usr/local/lib/python3.7/dist-packages (from google-auth<3,>=1.6.3->tensorboard<2.9,>=2.8->tensorflow<3,>=2.1.0->tensorflowjs) (0.2.8)\n",
            "Requirement already satisfied: requests-oauthlib>=0.7.0 in /usr/local/lib/python3.7/dist-packages (from google-auth-oauthlib<0.5,>=0.4.1->tensorboard<2.9,>=2.8->tensorflow<3,>=2.1.0->tensorflowjs) (1.3.1)\n",
            "Requirement already satisfied: importlib-metadata>=4.4 in /usr/local/lib/python3.7/dist-packages (from markdown>=2.6.8->tensorboard<2.9,>=2.8->tensorflow<3,>=2.1.0->tensorflowjs) (4.12.0)\n",
            "Requirement already satisfied: zipp>=0.5 in /usr/local/lib/python3.7/dist-packages (from importlib-metadata>=4.4->markdown>=2.6.8->tensorboard<2.9,>=2.8->tensorflow<3,>=2.1.0->tensorflowjs) (3.8.1)\n",
            "Requirement already satisfied: pyasn1<0.5.0,>=0.4.6 in /usr/local/lib/python3.7/dist-packages (from pyasn1-modules>=0.2.1->google-auth<3,>=1.6.3->tensorboard<2.9,>=2.8->tensorflow<3,>=2.1.0->tensorflowjs) (0.4.8)\n",
            "Requirement already satisfied: chardet<4,>=3.0.2 in /usr/local/lib/python3.7/dist-packages (from requests<3,>=2.21.0->tensorboard<2.9,>=2.8->tensorflow<3,>=2.1.0->tensorflowjs) (3.0.4)\n",
            "Requirement already satisfied: urllib3!=1.25.0,!=1.25.1,<1.26,>=1.21.1 in /usr/local/lib/python3.7/dist-packages (from requests<3,>=2.21.0->tensorboard<2.9,>=2.8->tensorflow<3,>=2.1.0->tensorflowjs) (1.24.3)\n",
            "Requirement already satisfied: certifi>=2017.4.17 in /usr/local/lib/python3.7/dist-packages (from requests<3,>=2.21.0->tensorboard<2.9,>=2.8->tensorflow<3,>=2.1.0->tensorflowjs) (2022.6.15)\n",
            "Requirement already satisfied: idna<3,>=2.5 in /usr/local/lib/python3.7/dist-packages (from requests<3,>=2.21.0->tensorboard<2.9,>=2.8->tensorflow<3,>=2.1.0->tensorflowjs) (2.10)\n",
            "Requirement already satisfied: oauthlib>=3.0.0 in /usr/local/lib/python3.7/dist-packages (from requests-oauthlib>=0.7.0->google-auth-oauthlib<0.5,>=0.4.1->tensorboard<2.9,>=2.8->tensorflow<3,>=2.1.0->tensorflowjs) (3.2.0)\n"
          ]
        }
      ]
    },
    {
      "cell_type": "code",
      "source": [
        "model.save('qdraw_toy.h5')"
      ],
      "metadata": {
        "id": "kC5M1QnVoUbZ"
      },
      "execution_count": 30,
      "outputs": []
    },
    {
      "cell_type": "code",
      "source": [
        "if os.path.exists('model'):\n",
        "  shutil.rmtree('model')\n",
        "\n",
        "!mkdir model\n",
        "!tensorflowjs_converter --input_format keras qdraw_toy.h5 model/"
      ],
      "metadata": {
        "id": "y1VWSEzVoX1O"
      },
      "execution_count": 31,
      "outputs": []
    },
    {
      "cell_type": "code",
      "source": [
        "!cp class_names.txt model/class_names.txt"
      ],
      "metadata": {
        "id": "5dLL9ONCojmE"
      },
      "execution_count": 32,
      "outputs": []
    },
    {
      "cell_type": "code",
      "source": [
        "\n",
        "!zip -r model.zip model\n",
        "from google.colab import files\n",
        "files.download('model.zip')\n"
      ],
      "metadata": {
        "colab": {
          "base_uri": "https://localhost:8080/",
          "height": 104
        },
        "id": "T9043HjtotsY",
        "outputId": "7b280664-3963-4631-d80d-6b8383760410"
      },
      "execution_count": 33,
      "outputs": [
        {
          "output_type": "stream",
          "name": "stdout",
          "text": [
            "  adding: model/ (stored 0%)\n",
            "  adding: model/model.json (deflated 89%)\n",
            "  adding: model/group1-shard2of2.bin (deflated 7%)\n",
            "  adding: model/class_names.txt (deflated 30%)\n",
            "  adding: model/group1-shard1of2.bin (deflated 7%)\n"
          ]
        },
        {
          "output_type": "display_data",
          "data": {
            "text/plain": [
              "<IPython.core.display.Javascript object>"
            ],
            "application/javascript": [
              "\n",
              "    async function download(id, filename, size) {\n",
              "      if (!google.colab.kernel.accessAllowed) {\n",
              "        return;\n",
              "      }\n",
              "      const div = document.createElement('div');\n",
              "      const label = document.createElement('label');\n",
              "      label.textContent = `Downloading \"${filename}\": `;\n",
              "      div.appendChild(label);\n",
              "      const progress = document.createElement('progress');\n",
              "      progress.max = size;\n",
              "      div.appendChild(progress);\n",
              "      document.body.appendChild(div);\n",
              "\n",
              "      const buffers = [];\n",
              "      let downloaded = 0;\n",
              "\n",
              "      const channel = await google.colab.kernel.comms.open(id);\n",
              "      // Send a message to notify the kernel that we're ready.\n",
              "      channel.send({})\n",
              "\n",
              "      for await (const message of channel.messages) {\n",
              "        // Send a message to notify the kernel that we're ready.\n",
              "        channel.send({})\n",
              "        if (message.buffers) {\n",
              "          for (const buffer of message.buffers) {\n",
              "            buffers.push(buffer);\n",
              "            downloaded += buffer.byteLength;\n",
              "            progress.value = downloaded;\n",
              "          }\n",
              "        }\n",
              "      }\n",
              "      const blob = new Blob(buffers, {type: 'application/binary'});\n",
              "      const a = document.createElement('a');\n",
              "      a.href = window.URL.createObjectURL(blob);\n",
              "      a.download = filename;\n",
              "      div.appendChild(a);\n",
              "      a.click();\n",
              "      div.remove();\n",
              "    }\n",
              "  "
            ]
          },
          "metadata": {}
        },
        {
          "output_type": "display_data",
          "data": {
            "text/plain": [
              "<IPython.core.display.Javascript object>"
            ],
            "application/javascript": [
              "download(\"download_d05d2439-fb2a-48c9-9cba-e077cecf30e6\", \"model.zip\", 7309859)"
            ]
          },
          "metadata": {}
        }
      ]
    }
  ]
}